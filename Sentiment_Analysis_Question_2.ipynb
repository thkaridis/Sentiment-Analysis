{
 "cells": [
  {
   "cell_type": "markdown",
   "metadata": {},
   "source": [
    "This part of the exercise 2 ask to apply an existing application for sentiment analysis on twitter data, in order to classify and evaluate only the\n",
    "test examples. The purpose of this second part is to compare its performance with the performance of the supervised classifier obtained in question A. I have decided to use TextBlob in order to perform sentiment analysis to the twitter data. "
   ]
  },
  {
   "cell_type": "markdown",
   "metadata": {},
   "source": [
    "All the necessary imports"
   ]
  },
  {
   "cell_type": "code",
   "execution_count": 1,
   "metadata": {
    "collapsed": true
   },
   "outputs": [],
   "source": [
    "from textblob import TextBlob\n",
    "import pandas as pd\n",
    "import os\n",
    "from sklearn.metrics import accuracy_score"
   ]
  },
  {
   "cell_type": "markdown",
   "metadata": {},
   "source": [
    "Read file twitter-2016test and define the columns "
   ]
  },
  {
   "cell_type": "code",
   "execution_count": 2,
   "metadata": {
    "collapsed": true
   },
   "outputs": [],
   "source": [
    "cols = ['id','sentiment','text']\n",
    "testFile= pd.read_csv(\"/home/mscuser/Desktop/language_proc_exercise_2/test/twitter-2016test-A.tsv\", sep='\\t', header=None, names=cols)"
   ]
  },
  {
   "cell_type": "markdown",
   "metadata": {},
   "source": [
    "Erase all the instances where the twitter text is 'Not Available' and drop the column which contains the id of the twitter comment"
   ]
  },
  {
   "cell_type": "code",
   "execution_count": 3,
   "metadata": {
    "collapsed": true
   },
   "outputs": [],
   "source": [
    "testFile = testFile[testFile.text != 'Not Available']\n",
    "testFile = testFile.drop(['id'], axis=1)"
   ]
  },
  {
   "cell_type": "markdown",
   "metadata": {},
   "source": [
    "The function below take as input the tweets and make them blob objects. The package Sentiment of TextBlob give each text a number (polarity).We assume that if polarity exceeds 0.5 then the tweet is positive, if equlas to 0.5 is neutral else negative. "
   ]
  },
  {
   "cell_type": "code",
   "execution_count": 4,
   "metadata": {
    "collapsed": true
   },
   "outputs": [],
   "source": [
    "def blob_polarity(text):\n",
    "    \"\"\"  \"\"\"\n",
    "    blob = TextBlob(text)\n",
    "    score = blob.sentiment.polarity\n",
    "    if score >= 0.5:\n",
    "        return 'positive'\n",
    "    if -0.5 < score < 0.5:\n",
    "        return 'neutral'\n",
    "    if score <= -0.5:\n",
    "        return 'negative'"
   ]
  },
  {
   "cell_type": "markdown",
   "metadata": {},
   "source": [
    "Finally we perform the function above to the testFile and use the accuracy_score to compare the testFile.sentiment and blob_sentiment"
   ]
  },
  {
   "cell_type": "code",
   "execution_count": 5,
   "metadata": {},
   "outputs": [
    {
     "name": "stdout",
     "output_type": "stream",
     "text": [
      "0.545831443933\n"
     ]
    }
   ],
   "source": [
    "blob_sentiment = [blob_polarity(text) for text in testFile.text]\n",
    "print accuracy_score(testFile.sentiment, blob_sentiment)"
   ]
  },
  {
   "cell_type": "markdown",
   "metadata": {},
   "source": [
    "We can see that the accuracy of TextBlob is not better than the sentiment analysis we performed in the previous section of the exercise. "
   ]
  },
  {
   "cell_type": "markdown",
   "metadata": {},
   "source": [
    "##### General Comments"
   ]
  },
  {
   "cell_type": "markdown",
   "metadata": {},
   "source": [
    "We could say that sentiment analysis and especially on twitter is something really difficult to perform because           tweet's length is really small. Also there is high diversity of tweets concerning the actual meaning, the way someone's writes and also that there are a lot of mistakes. For example the meaning may change by using a question mark in the end of the sentence or by using an emoticon. Finally each analysis cannot take into consideration the irony. This is why neither our supervised classifier nor the textBlob has high accuracy."
   ]
  }
 ],
 "metadata": {
  "kernelspec": {
   "display_name": "Python 2",
   "language": "python",
   "name": "python2"
  },
  "language_info": {
   "codemirror_mode": {
    "name": "ipython",
    "version": 2
   },
   "file_extension": ".py",
   "mimetype": "text/x-python",
   "name": "python",
   "nbconvert_exporter": "python",
   "pygments_lexer": "ipython2",
   "version": "2.7.14"
  }
 },
 "nbformat": 4,
 "nbformat_minor": 2
}
